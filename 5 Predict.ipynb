{
 "cells": [
  {
   "cell_type": "code",
   "execution_count": 1,
   "metadata": {},
   "outputs": [
    {
     "name": "stderr",
     "output_type": "stream",
     "text": [
      "D:\\Anaconda\\lib\\site-packages\\h5py\\__init__.py:36: FutureWarning: Conversion of the second argument of issubdtype from `float` to `np.floating` is deprecated. In future, it will be treated as `np.float64 == np.dtype(float).type`.\n",
      "  from ._conv import register_converters as _register_converters\n",
      "Using TensorFlow backend.\n"
     ]
    },
    {
     "name": "stdout",
     "output_type": "stream",
     "text": [
      "Liczba finałowych masek 1\n",
      "Znaleziono 353823 zdjęć do przerobienia\n",
      "Zawężenie do: 353823 elementów\n",
      "46099\n",
      "done\n"
     ]
    },
    {
     "name": "stderr",
     "output_type": "stream",
     "text": [
      "D:\\Anaconda\\lib\\site-packages\\ipykernel_launcher.py:59: DeprecationWarning: `imsave` is deprecated!\n",
      "`imsave` is deprecated in SciPy 1.0.0, and will be removed in 1.2.0.\n",
      "Use ``imageio.imwrite`` instead.\n"
     ]
    }
   ],
   "source": [
    "from keras.preprocessing.image import ImageDataGenerator\n",
    "from keras.models import Sequential\n",
    "from keras.layers import Conv2D, MaxPooling2D\n",
    "from keras.layers import Activation, Dropout, Flatten, Dense\n",
    "from keras import backend as K\n",
    "import glob\n",
    "from keras.models import load_model\n",
    "import numpy as np\n",
    "\n",
    "import skimage as ski\n",
    "#from skimage import data, io, filters, exposure\n",
    "from skimage import io\n",
    "from skimage.filters import rank\n",
    "from skimage import img_as_float, img_as_ubyte\n",
    "from skimage.morphology import disk\n",
    "import skimage.morphology as mp\n",
    "from skimage import util\n",
    "from skimage.color import rgb2hsv, hsv2rgb, rgb2gray\n",
    "from skimage.filters.edges import convolve\n",
    "import scipy.misc\n",
    "\n",
    "\n",
    "model = load_model('my_model.h5')\n",
    "\n",
    "# Take final mask/Devided input path(s)\n",
    "\n",
    "original = [fn for fn in glob.glob(\"4Final/toGo/*\")]\n",
    "print(\"Liczba finałowych masek {}\".format(len(original)))\n",
    "final_mask = ski.io.imread(original[0])\n",
    "\n",
    "file_names = [fn for fn in glob.glob(\"32DevidedInputTest/*\")]\n",
    "print(\"Znaleziono {} zdjęć do przerobienia\".format(len(file_names)))\n",
    "\n",
    "### For sampling \n",
    "pack = file_names\n",
    "print(\"Zawężenie do:\",len(pack),\"elementów\")\n",
    "#for nr,name in enumerate(pack):\n",
    "#    print(nr+1,name) \n",
    "\n",
    "### Pack photos to predict in list\n",
    "to_predict = []\n",
    "for i in pack:\n",
    "    #print(i)\n",
    "    to_predict.append(ski.io.imread(i))\n",
    "\n",
    "sumix=0\n",
    "to_predict = np.array(to_predict)\n",
    "prediction = model.predict(to_predict)\n",
    "for enu,i in enumerate(prediction):\n",
    "    if i > 0.66:\n",
    "        sumix+=1\n",
    "        #print(\"x,y\",pack[enu][-13:-10],pack[enu][-7:-4])\n",
    "        x,y=pack[enu][-13:-10],pack[enu][-7:-4]\n",
    "        if(x.isdigit() and y.isdigit()):\n",
    "            final_mask[int(y)][int(x)] = 255.0\n",
    "    #else:\n",
    "        #print(\"no ! \",pack[enu][-13:-10],pack[enu][-7:-4])\n",
    "print(sumix)\n",
    "scipy.misc.imsave('4Final/final66.jpg', final_mask)\n",
    "print(\"done\")"
   ]
  }
 ],
 "metadata": {
  "kernelspec": {
   "display_name": "Python 3",
   "language": "python",
   "name": "python3"
  },
  "language_info": {
   "codemirror_mode": {
    "name": "ipython",
    "version": 3
   },
   "file_extension": ".py",
   "mimetype": "text/x-python",
   "name": "python",
   "nbconvert_exporter": "python",
   "pygments_lexer": "ipython3",
   "version": "3.6.4"
  }
 },
 "nbformat": 4,
 "nbformat_minor": 2
}
