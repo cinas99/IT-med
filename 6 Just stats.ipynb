{
 "cells": [
  {
   "cell_type": "code",
   "execution_count": 29,
   "metadata": {},
   "outputs": [],
   "source": [
    "import skimage as ski\n",
    "from skimage import data, io, filters, exposure\n",
    "from skimage.filters import rank\n",
    "from skimage import img_as_float, img_as_ubyte\n",
    "from skimage.morphology import disk\n",
    "import skimage.morphology as mp\n",
    "from skimage import util\n",
    "from skimage.color import rgb2hsv, hsv2rgb, rgb2gray\n",
    "from skimage.filters.edges import convolve\n",
    "import scipy.misc\n",
    "from keras.preprocessing.image import ImageDataGenerator\n",
    "from keras.models import Sequential\n",
    "from keras.layers import Conv2D, MaxPooling2D\n",
    "from keras.layers import Activation, Dropout, Flatten, Dense\n",
    "from keras import backend as K\n",
    "import glob\n",
    "from keras.models import load_model\n",
    "import numpy as np\n",
    "from PIL import Image, ImageOps\n",
    "from PIL import Image"
   ]
  },
  {
   "cell_type": "code",
   "execution_count": 52,
   "metadata": {},
   "outputs": [
    {
     "name": "stderr",
     "output_type": "stream",
     "text": [
      "D:\\Anaconda\\lib\\site-packages\\ipykernel_launcher.py:4: DeprecationWarning: `imsave` is deprecated!\n",
      "`imsave` is deprecated in SciPy 1.0.0, and will be removed in 1.2.0.\n",
      "Use ``imageio.imwrite`` instead.\n",
      "  after removing the cwd from sys.path.\n"
     ]
    }
   ],
   "source": [
    "# coords (passed to crop)were calculated by another script.It worked so terribly ungrateful that I just put here final score (75,75,1104,1065)\n",
    "img = Image.open('4Final/final.jpg')\n",
    "c = img.crop((75,75,1104,1065))\n",
    "scipy.misc.imsave('4Final/final_compare.jpg', c)"
   ]
  },
  {
   "cell_type": "code",
   "execution_count": 53,
   "metadata": {},
   "outputs": [
    {
     "name": "stderr",
     "output_type": "stream",
     "text": [
      "D:\\Anaconda\\lib\\site-packages\\ipykernel_launcher.py:3: DeprecationWarning: `imread` is deprecated!\n",
      "`imread` is deprecated in SciPy 1.0.0.\n",
      "Use ``matplotlib.pyplot.imread`` instead.\n",
      "  This is separate from the ipykernel package so we can avoid doing imports until\n",
      "D:\\Anaconda\\lib\\site-packages\\ipykernel_launcher.py:4: DeprecationWarning: `imread` is deprecated!\n",
      "`imread` is deprecated in SciPy 1.0.0.\n",
      "Use ``matplotlib.pyplot.imread`` instead.\n",
      "  after removing the cwd from sys.path.\n"
     ]
    }
   ],
   "source": [
    "# Init Error Matrix parameters \n",
    "TP,TN,FP,FN = 0,0,0,0\n",
    "final_comp2 = scipy.ndimage.imread('4Final/final_compare.jpg')\n",
    "original_comp2 = scipy.ndimage.imread('4Final/orignal_compare.jpg') \n",
    "final_comp2,oriinal_comp2 = final_comp2[:,:,0],original_comp2 # reduce RGB"
   ]
  },
  {
   "cell_type": "code",
   "execution_count": 54,
   "metadata": {},
   "outputs": [
    {
     "name": "stdout",
     "output_type": "stream",
     "text": [
      "Progress step --------->  0 / 1000\n",
      "Progress step --------->  200 / 1000\n",
      "Progress step --------->  400 / 1000\n",
      "Progress step --------->  600 / 1000\n",
      "Progress step --------->  800 / 1000\n",
      "\n",
      "Just numbers: Tp Tn Fp Fn 2874 819928 31257 23303\n",
      "\n",
      "Accuracy: 0.937813582079005\n",
      "Recall 0.10979103793406425\n",
      "Precision 0.08420497494945943\n"
     ]
    }
   ],
   "source": [
    "type_max1 = 255\n",
    "type_max2 = 1\n",
    "# Clear stats counting            \n",
    "for y in range(final_comp2.shape[0]):\n",
    "    for x in range(final_comp2.shape[1]):\n",
    "        if original_comp2[y][x] == type_max1 and final_comp2[y][x]==type_max2:\n",
    "            TP += 1\n",
    "        if final_comp2[y][x]==type_max2 and original_comp2[y][x]*type_max2 !=final_comp2[y][x]:\n",
    "            FP += 1\n",
    "        if original_comp2[y][x] == 0 and final_comp2[y][x]==0:\n",
    "            TN += 1\n",
    "        if final_comp2[y][x]== 0 and original_comp2[y][x]*type_max2!=final_comp2[y][x]:\n",
    "            FN += 1\n",
    "    #Progress bar\n",
    "    if(y%200 == 0):\n",
    "        print(\"Progress step ---------> \",y,str(\"/ 1000\"))      \n",
    "\n",
    "# Results\n",
    "print(\"\\nJust numbers: Tp Tn Fp Fn\", TP,TN,FP,FN)\n",
    "print(\"\\nAccuracy:\", (TP+TN)/(TP+TN+FP+FN))\n",
    "print(\"Recall\", (TP)/(TP+FN))\n",
    "print(\"Precision\", (TP)/(TP+FP))\n"
   ]
  }
 ],
 "metadata": {
  "kernelspec": {
   "display_name": "Python 3",
   "language": "python",
   "name": "python3"
  },
  "language_info": {
   "codemirror_mode": {
    "name": "ipython",
    "version": 3
   },
   "file_extension": ".py",
   "mimetype": "text/x-python",
   "name": "python",
   "nbconvert_exporter": "python",
   "pygments_lexer": "ipython3",
   "version": "3.6.4"
  }
 },
 "nbformat": 4,
 "nbformat_minor": 2
}
